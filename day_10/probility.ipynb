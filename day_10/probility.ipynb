{
 "cells": [
  {
   "cell_type": "code",
   "execution_count": 2,
   "id": "8d643d28-2431-4342-886c-ca1fcd1e72b6",
   "metadata": {},
   "outputs": [
    {
     "name": "stdout",
     "output_type": "stream",
     "text": [
      "Probability of Heads: 0.53\n"
     ]
    }
   ],
   "source": [
    "import random\n",
    "\n",
    "tosses = [random.choice(['H', 'T']) for _ in range(100)]\n",
    "\n",
    "prob_heads = tosses.count('H') / len(tosses)\n",
    "\n",
    "print(\"Probability of Heads:\", prob_heads)\n"
   ]
  },
  {
   "cell_type": "code",
   "execution_count": 12,
   "id": "679d51d6-53cb-473a-97e4-62c47e22374b",
   "metadata": {},
   "outputs": [
    {
     "data": {
      "text/plain": [
       "(34.5, 33.2, 32.300000000000004)"
      ]
     },
     "execution_count": 12,
     "metadata": {},
     "output_type": "execute_result"
    }
   ],
   "source": [
    "colors = [random.choice(['red','blue','green']) for _ in range(1000)]\n",
    "\n",
    "\n",
    "prob_red = colors.count('red') / len(colors)\n",
    "prob_blue = colors.count('blue') / len(colors) \n",
    "prob_green = colors.count('green') / len(colors) \n",
    "prob_red*100, prob_blue*100, prob_green*100"
   ]
  },
  {
   "cell_type": "code",
   "execution_count": null,
   "id": "36e6226a-c496-4892-8a78-3ad6cd6fe054",
   "metadata": {},
   "outputs": [],
   "source": []
  }
 ],
 "metadata": {
  "kernelspec": {
   "display_name": "Python 3 (ipykernel)",
   "language": "python",
   "name": "python3"
  },
  "language_info": {
   "codemirror_mode": {
    "name": "ipython",
    "version": 3
   },
   "file_extension": ".py",
   "mimetype": "text/x-python",
   "name": "python",
   "nbconvert_exporter": "python",
   "pygments_lexer": "ipython3",
   "version": "3.12.3"
  }
 },
 "nbformat": 4,
 "nbformat_minor": 5
}
