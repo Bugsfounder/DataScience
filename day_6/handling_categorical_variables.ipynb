{
 "cells": [
  {
   "cell_type": "code",
   "execution_count": 2,
   "id": "a9a43b97-1f60-437c-9d1f-cc957bc615c4",
   "metadata": {},
   "outputs": [],
   "source": [
    "# handling_categorical_variables\n",
    "\n",
    "# numinal : red, blue, green, male, female,  --> no roder\n",
    "# ordinal: high school, bachlors, masters etc --> order like hierarchy\n",
    "\n",
    "# label Encoding\n",
    "    # red       0\n",
    "    # blue      1\n",
    "    # green     2"
   ]
  },
  {
   "cell_type": "code",
   "execution_count": 3,
   "id": "5d59f92c-0858-45e7-bbe3-a6a3c7d1cac5",
   "metadata": {},
   "outputs": [
    {
     "name": "stdout",
     "output_type": "stream",
     "text": [
      "[3 0 1 3 0 2]\n",
      "['blue' 'green' 'pink' 'red']\n"
     ]
    }
   ],
   "source": [
    "from sklearn.preprocessing import LabelEncoder\n",
    "\n",
    "colors = ['red', 'blue','green', 'red','blue','pink']\n",
    "le = LabelEncoder()\n",
    "encoded_colors = le.fit_transform(colors)\n",
    "print(encoded_colors)\n",
    "print(le.classes_)\n"
   ]
  },
  {
   "cell_type": "code",
   "execution_count": null,
   "id": "cd4e5907-8142-4884-b281-40ef565be8da",
   "metadata": {},
   "outputs": [],
   "source": [
    "# !pip install scikit-learn\n"
   ]
  },
  {
   "cell_type": "code",
   "execution_count": 4,
   "id": "5d84e323-600a-4a6c-9d40-fc3dafd60543",
   "metadata": {},
   "outputs": [
    {
     "name": "stdout",
     "output_type": "stream",
     "text": [
      "   Color_blue  Color_green  Color_pink  Color_red\n",
      "0       False        False       False       True\n",
      "1        True        False       False      False\n",
      "2       False         True       False      False\n",
      "3       False        False       False       True\n",
      "4       False        False        True      False\n"
     ]
    },
    {
     "data": {
      "text/plain": [
       "array([[0., 0., 0., 1.],\n",
       "       [1., 0., 0., 0.],\n",
       "       [0., 1., 0., 0.],\n",
       "       [0., 0., 0., 1.],\n",
       "       [0., 0., 1., 0.]])"
      ]
     },
     "execution_count": 4,
     "metadata": {},
     "output_type": "execute_result"
    }
   ],
   "source": [
    "# one-hot encoding\n",
    "import pandas as pd\n",
    "from sklearn.preprocessing import OneHotEncoder\n",
    "\n",
    "df = pd.DataFrame({'Color':['red','blue','green','red', 'pink']})\n",
    "one_hot = pd.get_dummies(df['Color'], prefix='Color')\n",
    "print(one_hot)\n",
    "encoder = OneHotEncoder()\n",
    "encoded = encoder.fit_transform(df[['Color']]).toarray()\n",
    "encoded"
   ]
  },
  {
   "cell_type": "code",
   "execution_count": 19,
   "id": "dcb92fe1-24ca-4c2b-99d6-eda36e49b987",
   "metadata": {},
   "outputs": [
    {
     "data": {
      "text/plain": [
       "'Color'"
      ]
     },
     "execution_count": 19,
     "metadata": {},
     "output_type": "execute_result"
    }
   ],
   "source": [
    "df.columns[0]"
   ]
  }
 ],
 "metadata": {
  "kernelspec": {
   "display_name": "env",
   "language": "python",
   "name": "python3"
  },
  "language_info": {
   "codemirror_mode": {
    "name": "ipython",
    "version": 3
   },
   "file_extension": ".py",
   "mimetype": "text/x-python",
   "name": "python",
   "nbconvert_exporter": "python",
   "pygments_lexer": "ipython3",
   "version": "3.12.3"
  }
 },
 "nbformat": 4,
 "nbformat_minor": 5
}
