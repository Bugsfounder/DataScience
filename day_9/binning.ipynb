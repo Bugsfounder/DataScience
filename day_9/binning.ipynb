{
 "cells": [
  {
   "cell_type": "code",
   "execution_count": 26,
   "id": "cffca197-a738-4097-8e74-800187fe0b49",
   "metadata": {},
   "outputs": [
    {
     "name": "stdout",
     "output_type": "stream",
     "text": [
      "['Young', 'Young', 'Adult', 'Adult', 'Middle-aged', 'Senior', 'Senior', 'Senior', 'Senior']\n",
      "Categories (4, object): ['Young' < 'Adult' < 'Middle-aged' < 'Senior']\n"
     ]
    }
   ],
   "source": [
    "import pandas as pd \n",
    "import numpy as np \n",
    "ages = [18,25,35,45,55,65,75,75, 78] \n",
    "\n",
    "bins = pd.cut(ages, bins=4, labels=['Young', 'Adult', 'Middle-aged', 'Senior']) \n",
    "print(bins )"
   ]
  },
  {
   "cell_type": "code",
   "execution_count": 13,
   "id": "99a25547-e417-4c4a-bd47-6869b3c43319",
   "metadata": {},
   "outputs": [
    {
     "data": {
      "text/plain": [
       "<BarContainer object of 9 artists>"
      ]
     },
     "execution_count": 13,
     "metadata": {},
     "output_type": "execute_result"
    },
    {
     "data": {
      "image/png": "[encoded data removed]",
      "text/plain": [
       "<Figure size 640x480 with 1 Axes>"
      ]
     },
     "metadata": {},
     "output_type": "display_data"
    }
   ],
   "source": [
    "import matplotlib.pyplot as plt \n",
    "\n",
    "plt.plot(ages, bins) \n",
    "plt.scatter(ages,bins)\n",
    "plt.bar(ages, bins)"
   ]
  },
  {
   "cell_type": "code",
   "execution_count": 10,
   "id": "95d9bd9b-8f78-4d78-aa83-a5744602fc98",
   "metadata": {},
   "outputs": [
    {
     "data": {
      "text/plain": [
       "['Young', 'Young', 'Young', 'Adult', 'Adult', 'Middle-aged', 'Middle-aged', 'Senior', 'Senior']\n",
       "Categories (4, object): ['Young' < 'Adult' < 'Middle-aged' < 'Senior']"
      ]
     },
     "execution_count": 10,
     "metadata": {},
     "output_type": "execute_result"
    }
   ],
   "source": [
    "bins = pd.qcut(ages, q=4, labels=['Young', 'Adult', 'Middle-aged', 'Senior']) \n",
    "bins"
   ]
  },
  {
   "cell_type": "code",
   "execution_count": 19,
   "id": "ce6769fe-446e-4a5b-8c74-b89f89e7b2ef",
   "metadata": {},
   "outputs": [
    {
     "data": {
      "text/plain": [
       "['Adult', 'Middle-aged', 'Middle-aged', 'Senior', 'Senior', NaN, NaN, NaN, NaN]\n",
       "Categories (4, object): ['Young' < 'Adult' < 'Middle-aged' < 'Senior']"
      ]
     },
     "execution_count": 19,
     "metadata": {},
     "output_type": "execute_result"
    }
   ],
   "source": [
    "custom_bins = [0,10,20,35,60] \n",
    "labels=['Young', 'Adult', 'Middle-aged', 'Senior'] \n",
    "bins = pd.cut(ages, bins=custom_bins, labels=labels)\n",
    "\n",
    "bins \n",
    "\n"
   ]
  },
  {
   "cell_type": "code",
   "execution_count": 24,
   "id": "67f1e28b-ac90-45b5-96d0-6538973c2daa",
   "metadata": {},
   "outputs": [
    {
     "data": {
      "text/plain": [
       "array([[0.        , 0.        ],\n",
       "       [0.33333333, 0.33333333],\n",
       "       [0.66666667, 0.66666667],\n",
       "       [1.        , 1.        ]])"
      ]
     },
     "execution_count": 24,
     "metadata": {},
     "output_type": "execute_result"
    }
   ],
   "source": [
    "from sklearn.preprocessing import MinMaxScaler\n",
    "\n",
    "data = [[1,2],[2,4],[3,6],[4,8]] \n",
    "scaler = MinMaxScaler() \n",
    "scaled_data = scaler.fit_transform(data)\n",
    "scaled_data"
   ]
  },
  {
   "cell_type": "code",
   "execution_count": null,
   "id": "988c282e-105e-4f09-813a-5af0d73c04c2",
   "metadata": {},
   "outputs": [],
   "source": []
  }
 ],
 "metadata": {
  "kernelspec": {
   "display_name": "Python 3 (ipykernel)",
   "language": "python",
   "name": "python3"
  },
  "language_info": {
   "codemirror_mode": {
    "name": "ipython",
    "version": 3
   },
   "file_extension": ".py",
   "mimetype": "text/x-python",
   "name": "python",
   "nbconvert_exporter": "python",
   "pygments_lexer": "ipython3",
   "version": "3.12.3"
  }
 },
 "nbformat": 4,
 "nbformat_minor": 5
}
