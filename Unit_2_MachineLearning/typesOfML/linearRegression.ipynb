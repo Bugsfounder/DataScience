{
 "cells": [
  {
   "cell_type": "code",
   "execution_count": 9,
   "id": "9f0e62bb-6e7f-44f9-86f8-53f3a37ed30c",
   "metadata": {},
   "outputs": [
    {
     "name": "stdout",
     "output_type": "stream",
     "text": [
      "[ 380000.         4320000.00000001]\n"
     ]
    }
   ],
   "source": [
    "# Linear Regression: house price prediction\n",
    "from sklearn.linear_model import LinearRegression\n",
    "\n",
    "x = [[1200,8], [1500, 9], [800, 5]]\n",
    "y = [300000, 400000, 200000]\n",
    "\n",
    "model = LinearRegression()\n",
    "model.fit(x,y)\n",
    "\n",
    "print(model.predict([[1400,8], [11000,3]]))"
   ]
  },
  {
   "cell_type": "code",
   "execution_count": null,
   "id": "0e803edb-cfad-43b0-a0c9-30f99ef6171a",
   "metadata": {},
   "outputs": [],
   "source": []
  },
  {
   "cell_type": "code",
   "execution_count": null,
   "id": "71f5d4e5-6959-4b1e-a031-28ca39ea9b06",
   "metadata": {},
   "outputs": [],
   "source": []
  },
  {
   "cell_type": "code",
   "execution_count": null,
   "id": "605b6cbf-e8ee-44bd-9a98-1a700a82eb04",
   "metadata": {},
   "outputs": [],
   "source": []
  }
 ],
 "metadata": {
  "kernelspec": {
   "display_name": "Python 3 (ipykernel)",
   "language": "python",
   "name": "python3"
  },
  "language_info": {
   "codemirror_mode": {
    "name": "ipython",
    "version": 3
   },
   "file_extension": ".py",
   "mimetype": "text/x-python",
   "name": "python",
   "nbconvert_exporter": "python",
   "pygments_lexer": "ipython3",
   "version": "3.12.3"
  }
 },
 "nbformat": 4,
 "nbformat_minor": 5
}
