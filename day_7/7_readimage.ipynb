{
 "cells": [
  {
   "cell_type": "code",
   "execution_count": 12,
   "id": "c7a7d72b-e127-42a9-a3db-012dfdf937cb",
   "metadata": {},
   "outputs": [],
   "source": [
    "import pandas as pd\n",
    "import numpy as np\n",
    "from PIL import Image\n",
    "import matplotlib.pyplot as plt\n"
   ]
  },
  {
   "cell_type": "code",
   "execution_count": null,
   "id": "8acaa043-9362-45f1-82f5-fe4cda0f3634",
   "metadata": {},
   "outputs": [],
   "source": [
    "image = Image.open('cat.jpg')\n",
    "img_array = np.array(image)\n",
    "\n",
    "plt.imshow(img_array)\n",
    "# plt.imshow(img_array[0:300], img_array[0:500])\n",
    "plt.xlabel(\"x_axis\")\n",
    "plt.xlabel(\"y_axis\")\n",
    "\n",
    "x = img_array[0:300]\n",
    "y = img_array[300:400]\n",
    "# plt.imshow(x,y)"
   ]
  },
  {
   "cell_type": "code",
   "execution_count": 9,
   "id": "02247eb1-46e6-46d3-8c6c-94dce89eece7",
   "metadata": {},
   "outputs": [],
   "source": [
    "\n",
    "\n"
   ]
  },
  {
   "cell_type": "code",
   "execution_count": null,
   "id": "c0a9b24c-66b2-4273-8efd-8624d237c3d9",
   "metadata": {},
   "outputs": [],
   "source": []
  }
 ],
 "metadata": {
  "kernelspec": {
   "display_name": "Python 3 (ipykernel)",
   "language": "python",
   "name": "python3"
  },
  "language_info": {
   "codemirror_mode": {
    "name": "ipython",
    "version": 3
   },
   "file_extension": ".py",
   "mimetype": "text/x-python",
   "name": "python",
   "nbconvert_exporter": "python",
   "pygments_lexer": "ipython3",
   "version": "3.12.3"
  }
 },
 "nbformat": 4,
 "nbformat_minor": 5
}
