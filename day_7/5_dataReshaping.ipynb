{
 "cells": [
  {
   "cell_type": "code",
   "execution_count": 2,
   "id": "05b0d288-e911-4203-84e6-af96377997b1",
   "metadata": {},
   "outputs": [],
   "source": [
    "import pandas as pd\n",
    "\n",
    "customers = pd.DataFrame({'customer_id':[1,2,3,4],'name':[\"Alice\", \"Bob\",\"Charlie\", 'Diana'],\"city\": [\"NYC\", \"UA\", \"Chicago\", \"India\"],\n",
    "    \"salary\": [50000, 60000, 70000, 80000]})"
   ]
  },
  {
   "cell_type": "code",
   "execution_count": 12,
   "id": "208be59a-7360-4c0a-bfc9-4dd3af52490c",
   "metadata": {},
   "outputs": [
    {
     "data": {
      "text/html": [
       "<div>\n",
       "<style scoped>\n",
       "    .dataframe tbody tr th:only-of-type {\n",
       "        vertical-align: middle;\n",
       "    }\n",
       "\n",
       "    .dataframe tbody tr th {\n",
       "        vertical-align: top;\n",
       "    }\n",
       "\n",
       "    .dataframe thead th {\n",
       "        text-align: right;\n",
       "    }\n",
       "</style>\n",
       "<table border=\"1\" class=\"dataframe\">\n",
       "  <thead>\n",
       "    <tr style=\"text-align: right;\">\n",
       "      <th></th>\n",
       "      <th>variable</th>\n",
       "      <th>value</th>\n",
       "    </tr>\n",
       "  </thead>\n",
       "  <tbody>\n",
       "    <tr>\n",
       "      <th>0</th>\n",
       "      <td>customer_id</td>\n",
       "      <td>1</td>\n",
       "    </tr>\n",
       "    <tr>\n",
       "      <th>1</th>\n",
       "      <td>customer_id</td>\n",
       "      <td>2</td>\n",
       "    </tr>\n",
       "    <tr>\n",
       "      <th>2</th>\n",
       "      <td>customer_id</td>\n",
       "      <td>3</td>\n",
       "    </tr>\n",
       "    <tr>\n",
       "      <th>3</th>\n",
       "      <td>customer_id</td>\n",
       "      <td>4</td>\n",
       "    </tr>\n",
       "    <tr>\n",
       "      <th>4</th>\n",
       "      <td>name</td>\n",
       "      <td>Alice</td>\n",
       "    </tr>\n",
       "    <tr>\n",
       "      <th>5</th>\n",
       "      <td>name</td>\n",
       "      <td>Bob</td>\n",
       "    </tr>\n",
       "    <tr>\n",
       "      <th>6</th>\n",
       "      <td>name</td>\n",
       "      <td>Charlie</td>\n",
       "    </tr>\n",
       "    <tr>\n",
       "      <th>7</th>\n",
       "      <td>name</td>\n",
       "      <td>Diana</td>\n",
       "    </tr>\n",
       "    <tr>\n",
       "      <th>8</th>\n",
       "      <td>city</td>\n",
       "      <td>NYC</td>\n",
       "    </tr>\n",
       "    <tr>\n",
       "      <th>9</th>\n",
       "      <td>city</td>\n",
       "      <td>UA</td>\n",
       "    </tr>\n",
       "    <tr>\n",
       "      <th>10</th>\n",
       "      <td>city</td>\n",
       "      <td>Chicago</td>\n",
       "    </tr>\n",
       "    <tr>\n",
       "      <th>11</th>\n",
       "      <td>city</td>\n",
       "      <td>India</td>\n",
       "    </tr>\n",
       "    <tr>\n",
       "      <th>12</th>\n",
       "      <td>salary</td>\n",
       "      <td>50000</td>\n",
       "    </tr>\n",
       "    <tr>\n",
       "      <th>13</th>\n",
       "      <td>salary</td>\n",
       "      <td>60000</td>\n",
       "    </tr>\n",
       "    <tr>\n",
       "      <th>14</th>\n",
       "      <td>salary</td>\n",
       "      <td>70000</td>\n",
       "    </tr>\n",
       "    <tr>\n",
       "      <th>15</th>\n",
       "      <td>salary</td>\n",
       "      <td>80000</td>\n",
       "    </tr>\n",
       "  </tbody>\n",
       "</table>\n",
       "</div>"
      ],
      "text/plain": [
       "       variable    value\n",
       "0   customer_id        1\n",
       "1   customer_id        2\n",
       "2   customer_id        3\n",
       "3   customer_id        4\n",
       "4          name    Alice\n",
       "5          name      Bob\n",
       "6          name  Charlie\n",
       "7          name    Diana\n",
       "8          city      NYC\n",
       "9          city       UA\n",
       "10         city  Chicago\n",
       "11         city    India\n",
       "12       salary    50000\n",
       "13       salary    60000\n",
       "14       salary    70000\n",
       "15       salary    80000"
      ]
     },
     "execution_count": 12,
     "metadata": {},
     "output_type": "execute_result"
    }
   ],
   "source": [
    "pd.melt(customers, id_vars=None, value_vars=None, var_name='variable',value_name='value')\n",
    "pd.melt(customers,  var_name='variable',value_name='value')\n",
    "pd.melt(customers)"
   ]
  },
  {
   "cell_type": "code",
   "execution_count": 18,
   "id": "098b0bc5-b720-432a-84f3-33eaf4f86403",
   "metadata": {},
   "outputs": [
    {
     "name": "stdout",
     "output_type": "stream",
     "text": [
      "  products  Q1_2023  Q2_2023  Q3_2023\n",
      "0   laptop     1200     1350     1180\n",
      "1    phone      800      920      750\n",
      "2   tables      450      520      480\n"
     ]
    }
   ],
   "source": [
    "sales_data = {\"products\":[\"laptop\",'phone','tables'],\n",
    "              \"Q1_2023\":[1200,800,450],\n",
    "            \"Q2_2023\":[1350,920,520],\n",
    "            \"Q3_2023\":[1180,750,480]}\n",
    "sales_df = pd.DataFrame(sales_data)\n",
    "print(sales_df)"
   ]
  },
  {
   "cell_type": "code",
   "execution_count": 22,
   "id": "e45242c3-1130-4e20-969f-6b271b280fc8",
   "metadata": {},
   "outputs": [
    {
     "name": "stdout",
     "output_type": "stream",
     "text": [
      "  products   Quater  Sales\n",
      "0   laptop  Q1_2023   1200\n",
      "1    phone  Q1_2023    800\n",
      "2   tables  Q1_2023    450\n",
      "3   laptop  Q2_2023   1350\n",
      "4    phone  Q2_2023    920\n"
     ]
    }
   ],
   "source": [
    "pd.melt(sales_df)\n",
    "melted_data = pd.melt(sales_df, id_vars=[\"products\"],var_name=\"Quater\",value_name=\"Sales\")\n",
    "melted_data['Quater'].str.replace('_2023','')\n",
    "print(melted_data.head())"
   ]
  },
  {
   "cell_type": "code",
   "execution_count": 29,
   "id": "8fa4a2ab-f4d4-4c40-852e-31b57a8a0233",
   "metadata": {},
   "outputs": [],
   "source": [
    "stacked_sales = sales_df.set_index(\"products\").stack()\n",
    "# stacked_sales.name = \"Sales\"\n",
    "# stacked_sales.index.name = [\"product\", 'quater']\n",
    "# stacked_df = stacked_sales.reset_index()"
   ]
  },
  {
   "cell_type": "code",
   "execution_count": null,
   "id": "74289eb3-d2f2-4062-99a5-44ac614dd009",
   "metadata": {},
   "outputs": [],
   "source": []
  }
 ],
 "metadata": {
  "kernelspec": {
   "display_name": "Python 3 (ipykernel)",
   "language": "python",
   "name": "python3"
  },
  "language_info": {
   "codemirror_mode": {
    "name": "ipython",
    "version": 3
   },
   "file_extension": ".py",
   "mimetype": "text/x-python",
   "name": "python",
   "nbconvert_exporter": "python",
   "pygments_lexer": "ipython3",
   "version": "3.12.3"
  }
 },
 "nbformat": 4,
 "nbformat_minor": 5
}
