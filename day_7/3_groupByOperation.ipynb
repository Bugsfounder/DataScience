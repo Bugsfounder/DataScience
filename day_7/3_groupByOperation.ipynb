{
 "cells": [
  {
   "cell_type": "code",
   "execution_count": 2,
   "id": "745df2dd-ecf0-4a80-baa6-ac54cf6b5836",
   "metadata": {},
   "outputs": [],
   "source": [
    "import pandas as pd\n",
    "customers = pd.DataFrame({'customer_id':[1,2,3,4],'name':[\"Alice\", \"Bob\",\"Charlie\", 'Diana'],\"city\": [\"NYC\", \"UA\", \"Chicago\", \"India\"],\n",
    "    \"salary\": [50000, 60000, 70000, 80000]}) \n",
    "\n",
    "orders = pd.DataFrame( {'order_id' : [101,102,103,104,105], 'customer_id':[1,2,1,3,5], \"product\":['laptop','phone','tablet','watch','camera'], 'amount':[1200,800,550,300,900]})\n",
    "\n"
   ]
  },
  {
   "cell_type": "code",
   "execution_count": 7,
   "id": "ab5b1db6-5c4f-4c38-8fd9-e32e6ac344c2",
   "metadata": {},
   "outputs": [
    {
     "data": {
      "text/plain": [
       "name\n",
       "Alice      1200\n",
       "Bob         800\n",
       "Charlie     550\n",
       "Diana       300\n",
       "Name: amount, dtype: int64"
      ]
     },
     "execution_count": 7,
     "metadata": {},
     "output_type": "execute_result"
    }
   ],
   "source": [
    "grouped = orders.groupby('order_id')['amount'].sum()\n",
    "\n",
    "grouped = orders.groupby(customers['name'])['amount'].sum()\n",
    "\n",
    "grouped"
   ]
  },
  {
   "cell_type": "code",
   "execution_count": null,
   "id": "f1dbf1b0-6452-481a-b298-da84e395bdf0",
   "metadata": {},
   "outputs": [],
   "source": [
    "# "
   ]
  },
  {
   "cell_type": "code",
   "execution_count": null,
   "id": "7b06d863-609a-405c-b8d0-1012107b15d9",
   "metadata": {},
   "outputs": [],
   "source": []
  }
 ],
 "metadata": {
  "kernelspec": {
   "display_name": "Python 3 (ipykernel)",
   "language": "python",
   "name": "python3"
  },
  "language_info": {
   "codemirror_mode": {
    "name": "ipython",
    "version": 3
   },
   "file_extension": ".py",
   "mimetype": "text/x-python",
   "name": "python",
   "nbconvert_exporter": "python",
   "pygments_lexer": "ipython3",
   "version": "3.12.3"
  }
 },
 "nbformat": 4,
 "nbformat_minor": 5
}
