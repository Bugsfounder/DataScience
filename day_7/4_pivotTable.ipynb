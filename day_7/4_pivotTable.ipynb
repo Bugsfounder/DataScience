{
 "cells": [
  {
   "cell_type": "code",
   "execution_count": 2,
   "id": "a5779e06-e324-4ad9-a077-54c178d7ac0b",
   "metadata": {},
   "outputs": [],
   "source": [
    "# pivot table\n",
    "\n",
    "import pandas as pd\n",
    "\n",
    "customers = pd.DataFrame({'customer_id':[1,2,3,4],'name':[\"Alice\", \"Bob\",\"Charlie\", 'Diana'],\"city\": [\"NYC\", \"UA\", \"Chicago\", \"India\"],\n",
    "    \"salary\": [50000, 60000, 70000, 80000]})\n",
    "\n"
   ]
  },
  {
   "cell_type": "code",
   "execution_count": 10,
   "id": "ecb52a2e-416d-485f-af7f-c07e1bd6cc1a",
   "metadata": {},
   "outputs": [
    {
     "data": {
      "text/html": [
       "<div>\n",
       "<style scoped>\n",
       "    .dataframe tbody tr th:only-of-type {\n",
       "        vertical-align: middle;\n",
       "    }\n",
       "\n",
       "    .dataframe tbody tr th {\n",
       "        vertical-align: top;\n",
       "    }\n",
       "\n",
       "    .dataframe thead tr th {\n",
       "        text-align: left;\n",
       "    }\n",
       "\n",
       "    .dataframe thead tr:last-of-type th {\n",
       "        text-align: right;\n",
       "    }\n",
       "</style>\n",
       "<table border=\"1\" class=\"dataframe\">\n",
       "  <thead>\n",
       "    <tr>\n",
       "      <th></th>\n",
       "      <th></th>\n",
       "      <th colspan=\"2\" halign=\"left\">mean</th>\n",
       "      <th colspan=\"2\" halign=\"left\">sum</th>\n",
       "    </tr>\n",
       "    <tr>\n",
       "      <th></th>\n",
       "      <th></th>\n",
       "      <th>customer_id</th>\n",
       "      <th>salary</th>\n",
       "      <th>customer_id</th>\n",
       "      <th>salary</th>\n",
       "    </tr>\n",
       "    <tr>\n",
       "      <th>name</th>\n",
       "      <th>city</th>\n",
       "      <th></th>\n",
       "      <th></th>\n",
       "      <th></th>\n",
       "      <th></th>\n",
       "    </tr>\n",
       "  </thead>\n",
       "  <tbody>\n",
       "    <tr>\n",
       "      <th>Alice</th>\n",
       "      <th>NYC</th>\n",
       "      <td>1.0</td>\n",
       "      <td>50000.0</td>\n",
       "      <td>1</td>\n",
       "      <td>50000</td>\n",
       "    </tr>\n",
       "    <tr>\n",
       "      <th>Bob</th>\n",
       "      <th>UA</th>\n",
       "      <td>2.0</td>\n",
       "      <td>60000.0</td>\n",
       "      <td>2</td>\n",
       "      <td>60000</td>\n",
       "    </tr>\n",
       "    <tr>\n",
       "      <th>Charlie</th>\n",
       "      <th>Chicago</th>\n",
       "      <td>3.0</td>\n",
       "      <td>70000.0</td>\n",
       "      <td>3</td>\n",
       "      <td>70000</td>\n",
       "    </tr>\n",
       "    <tr>\n",
       "      <th>Diana</th>\n",
       "      <th>India</th>\n",
       "      <td>4.0</td>\n",
       "      <td>80000.0</td>\n",
       "      <td>4</td>\n",
       "      <td>80000</td>\n",
       "    </tr>\n",
       "  </tbody>\n",
       "</table>\n",
       "</div>"
      ],
      "text/plain": [
       "                       mean                  sum       \n",
       "                customer_id   salary customer_id salary\n",
       "name    city                                           \n",
       "Alice   NYC             1.0  50000.0           1  50000\n",
       "Bob     UA              2.0  60000.0           2  60000\n",
       "Charlie Chicago         3.0  70000.0           3  70000\n",
       "Diana   India           4.0  80000.0           4  80000"
      ]
     },
     "execution_count": 10,
     "metadata": {},
     "output_type": "execute_result"
    }
   ],
   "source": [
    "pt_result = pd.pivot_table(customers, values='salary',index='name',aggfunc='mean')\n",
    "pt_result = pd.pivot_table(customers, values='salary',index='name',aggfunc='sum')\n",
    "pt_result = pd.pivot_table(customers, values=['salary','customer_id'],index='name',aggfunc=['mean','sum'])\n",
    "pt_result = pd.pivot_table(customers, values=['salary','customer_id'],index=['name','city'],aggfunc=['mean','sum'])\n",
    "pt_result"
   ]
  },
  {
   "cell_type": "code",
   "execution_count": null,
   "id": "d5c934ed-80f3-457a-ac9c-232f850152e4",
   "metadata": {},
   "outputs": [],
   "source": []
  }
 ],
 "metadata": {
  "kernelspec": {
   "display_name": "Python 3 (ipykernel)",
   "language": "python",
   "name": "python3"
  },
  "language_info": {
   "codemirror_mode": {
    "name": "ipython",
    "version": 3
   },
   "file_extension": ".py",
   "mimetype": "text/x-python",
   "name": "python",
   "nbconvert_exporter": "python",
   "pygments_lexer": "ipython3",
   "version": "3.12.3"
  }
 },
 "nbformat": 4,
 "nbformat_minor": 5
}
