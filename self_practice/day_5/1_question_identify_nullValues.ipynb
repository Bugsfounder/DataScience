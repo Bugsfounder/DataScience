{
 "cells": [
  {
   "cell_type": "code",
   "execution_count": 27,
   "id": "e2323bb1-3083-4473-9678-49339e2d2863",
   "metadata": {},
   "outputs": [
    {
     "name": "stdout",
     "output_type": "stream",
     "text": [
      "    Name    Age  Salary\n",
      "0  False  False   False\n",
      "1  False   True   False\n",
      "2   True  False    True\n",
      "3  False  False   False\n",
      "4  False   True   False\n",
      "True\n",
      "True\n",
      "True\n"
     ]
    },
    {
     "data": {
      "text/plain": [
       "Name      1\n",
       "Age       2\n",
       "Salary    1\n",
       "dtype: int64"
      ]
     },
     "execution_count": 27,
     "metadata": {},
     "output_type": "execute_result"
    }
   ],
   "source": [
    "# You have a DataFrame with missing values:\n",
    "\n",
    "import pandas as pd \n",
    "import numpy as np \n",
    "df = pd.DataFrame({ 'Name': ['Alice', 'Bob', None, 'David', 'Eve'], 'Age': [25, None, 35, 40, None], 'Salary': [50000, 60000, None, 70000, 55000] })\n",
    "\n",
    "# How would you identify all rows that contain at least one null value?\n",
    "print(df.isnull())\n",
    "df.isnull().any(axis=0) # column\n",
    "ALL_rows=df.isnull().any(axis=1) # row\n",
    "\n",
    "# any --> It returns True if at least one element in the Series is True or equivalent (non-zero for numerical data, non-empty for strings).\n",
    "# When you use axis=0, the operation is applied to each column, and the result is a series with the same number of rows as the original DataFrame.\n",
    "# When you use axis=1, the operation is applied to each row, and the result is a series with the same number of columns as the original DataFrame.\n",
    "\n",
    "rows = [r for r in ALL_rows if r==True]\n",
    "# print(rows)\n",
    "\n",
    "for r in df.isnull().any(axis=1) :\n",
    "    if r == True:\n",
    "        print(r)\n",
    "        pass\n",
    "\n",
    "df.isnull().sum()"
   ]
  },
  {
   "cell_type": "code",
   "execution_count": null,
   "id": "1c3989e7-da55-4390-94f9-9e1c9c6f4c53",
   "metadata": {},
   "outputs": [],
   "source": []
  }
 ],
 "metadata": {
  "kernelspec": {
   "display_name": "Python 3 (ipykernel)",
   "language": "python",
   "name": "python3"
  },
  "language_info": {
   "codemirror_mode": {
    "name": "ipython",
    "version": 3
   },
   "file_extension": ".py",
   "mimetype": "text/x-python",
   "name": "python",
   "nbconvert_exporter": "python",
   "pygments_lexer": "ipython3",
   "version": "3.12.3"
  }
 },
 "nbformat": 4,
 "nbformat_minor": 5
}
