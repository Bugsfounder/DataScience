{
 "cells": [
  {
   "cell_type": "code",
   "execution_count": 19,
   "id": "c7df67c2-33b0-4ab5-ad98-008416ccc5ca",
   "metadata": {},
   "outputs": [
    {
     "data": {
      "text/html": [
       "<div>\n",
       "<style scoped>\n",
       "    .dataframe tbody tr th:only-of-type {\n",
       "        vertical-align: middle;\n",
       "    }\n",
       "\n",
       "    .dataframe tbody tr th {\n",
       "        vertical-align: top;\n",
       "    }\n",
       "\n",
       "    .dataframe thead th {\n",
       "        text-align: right;\n",
       "    }\n",
       "</style>\n",
       "<table border=\"1\" class=\"dataframe\">\n",
       "  <thead>\n",
       "    <tr style=\"text-align: right;\">\n",
       "      <th></th>\n",
       "      <th>name</th>\n",
       "      <th>salary</th>\n",
       "    </tr>\n",
       "  </thead>\n",
       "  <tbody>\n",
       "    <tr>\n",
       "      <th>10</th>\n",
       "      <td>Outlier1</td>\n",
       "      <td>150000</td>\n",
       "    </tr>\n",
       "  </tbody>\n",
       "</table>\n",
       "</div>"
      ],
      "text/plain": [
       "        name  salary\n",
       "10  Outlier1  150000"
      ]
     },
     "execution_count": 19,
     "metadata": {},
     "output_type": "execute_result"
    }
   ],
   "source": [
    "# You have a dataset with outliers in the 'Salary' column. How would you identify values that are more than 2 standard deviations away from the mean?\n",
    "\n",
    "import pandas as pd \n",
    "import numpy as np \n",
    "\n",
    "data = {\n",
    "    'name': [\n",
    "        \"Alice\", \"Bob\", \"Charlie\", \"David\", \"Eva\", \n",
    "        \"Frank\", \"Grace\", \"Helen\", \"Ian\", \"Jane\",\n",
    "        \"Outlier1\", \"Outlier2\"\n",
    "    ],\n",
    "    \"salary\": [\n",
    "        35000, 42000, 39000, 41000, 37000, \n",
    "        43000, 40000, 39500, 38000, 40500,\n",
    "        150000, 1000  # Outliers: one very high, one very low\n",
    "    ]\n",
    "}\n",
    "\n",
    "df = pd.DataFrame(data)\n",
    "\n",
    "mean = df['salary'].mean() \n",
    "std = df['salary'].std() \n",
    "\n",
    "upperBound = mean + 2 * std \n",
    "lowerBound = mean - 2 * std\n",
    "\n",
    "outlier = ((df['salary']>upperBound) | (df['salary']<lowerBound))\n",
    "\n",
    "\n",
    "outlier\n",
    "df[outlier]"
   ]
  },
  {
   "cell_type": "code",
   "execution_count": 27,
   "id": "6e7585cd-7240-4f0d-bc7f-0fabee43205f",
   "metadata": {},
   "outputs": [
    {
     "data": {
      "text/html": [
       "<div>\n",
       "<style scoped>\n",
       "    .dataframe tbody tr th:only-of-type {\n",
       "        vertical-align: middle;\n",
       "    }\n",
       "\n",
       "    .dataframe tbody tr th {\n",
       "        vertical-align: top;\n",
       "    }\n",
       "\n",
       "    .dataframe thead th {\n",
       "        text-align: right;\n",
       "    }\n",
       "</style>\n",
       "<table border=\"1\" class=\"dataframe\">\n",
       "  <thead>\n",
       "    <tr style=\"text-align: right;\">\n",
       "      <th></th>\n",
       "      <th>name</th>\n",
       "      <th>salary</th>\n",
       "    </tr>\n",
       "  </thead>\n",
       "  <tbody>\n",
       "    <tr>\n",
       "      <th>10</th>\n",
       "      <td>Outlier1</td>\n",
       "      <td>150000</td>\n",
       "    </tr>\n",
       "    <tr>\n",
       "      <th>11</th>\n",
       "      <td>Outlier2</td>\n",
       "      <td>1000</td>\n",
       "    </tr>\n",
       "  </tbody>\n",
       "</table>\n",
       "</div>"
      ],
      "text/plain": [
       "        name  salary\n",
       "10  Outlier1  150000\n",
       "11  Outlier2    1000"
      ]
     },
     "execution_count": 27,
     "metadata": {},
     "output_type": "execute_result"
    }
   ],
   "source": [
    "upperBound = mean + 1 * std \n",
    "lowerBound = mean - 1 * std\n",
    "\n",
    "outlier = ((df['salary']>upperBound) | (df['salary']<lowerBound))\n",
    "\n",
    "df[outlier]"
   ]
  }
 ],
 "metadata": {
  "kernelspec": {
   "display_name": "Python 3 (ipykernel)",
   "language": "python",
   "name": "python3"
  },
  "language_info": {
   "codemirror_mode": {
    "name": "ipython",
    "version": 3
   },
   "file_extension": ".py",
   "mimetype": "text/x-python",
   "name": "python",
   "nbconvert_exporter": "python",
   "pygments_lexer": "ipython3",
   "version": "3.12.3"
  }
 },
 "nbformat": 4,
 "nbformat_minor": 5
}
