{
 "cells": [
  {
   "cell_type": "code",
   "execution_count": 21,
   "id": "3bb44736-4fea-4f86-8ded-0fbb889e406a",
   "metadata": {},
   "outputs": [
    {
     "data": {
      "text/plain": [
       "<bound method DataFrame.duplicated of     Index      Customer Id  ... Subscription Date                            Website\n",
       "0       1  DD37Cf93aecA6Dc  ...        2020-08-24         http://www.stephenson.com/\n",
       "1       2  1Ef7b82A4CAAD10  ...        2021-04-23              http://www.hobbs.com/\n",
       "2       3  6F94879bDAfE5a6  ...        2020-03-25           http://www.lawrence.com/\n",
       "3       4  5Cef8BFA16c5e3c  ...        2020-06-02         http://www.good-lyons.com/\n",
       "4       5  053d585Ab6b3159  ...        2021-04-17        https://goodwin-ingram.com/\n",
       "..    ...              ...  ...               ...                                ...\n",
       "95     96  cb8E23e48d22Eae  ...        2022-01-30            http://hayes-perez.com/\n",
       "96     97  CeD220bdAaCfaDf  ...        2021-07-10         https://novak-allison.com/\n",
       "97     98  28CDbC0dFe4b1Db  ...        2021-09-18              https://www.ross.com/\n",
       "98     99  c23d1D9EE8DEB0A  ...        2021-08-11               http://watkins.info/\n",
       "99    100  2354a0E336A91A1  ...        2020-03-11  http://www.hatfield-saunders.net/\n",
       "\n",
       "[100 rows x 12 columns]>"
      ]
     },
     "execution_count": 21,
     "metadata": {},
     "output_type": "execute_result"
    }
   ],
   "source": [
    "# How would you check for duplicate rows in a DataFrame and remove them while keeping the first occurrence?\n",
    "\n",
    "import pandas as pd \n",
    "\n",
    "df = pd.DataFrame(pd.read_csv('../../datasets/customers-100.csv'))\n",
    "df.add(df)\n",
    "\n",
    "df.duplicated()\n",
    "df.duplicated\n",
    "\n",
    "df.drop_duplicates(keep='first')\n",
    "\n",
    "df.drop_duplicates(keep='first', inplace=True)\n",
    "\n"
   ]
  },
  {
   "cell_type": "code",
   "execution_count": null,
   "id": "143d267a-dd28-42f8-b115-e86e7a4f9178",
   "metadata": {},
   "outputs": [],
   "source": []
  }
 ],
 "metadata": {
  "kernelspec": {
   "display_name": "Python 3 (ipykernel)",
   "language": "python",
   "name": "python3"
  },
  "language_info": {
   "codemirror_mode": {
    "name": "ipython",
    "version": 3
   },
   "file_extension": ".py",
   "mimetype": "text/x-python",
   "name": "python",
   "nbconvert_exporter": "python",
   "pygments_lexer": "ipython3",
   "version": "3.12.3"
  }
 },
 "nbformat": 4,
 "nbformat_minor": 5
}
