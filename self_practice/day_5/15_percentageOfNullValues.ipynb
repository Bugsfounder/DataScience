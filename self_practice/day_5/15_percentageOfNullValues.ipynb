{
 "cells": [
  {
   "cell_type": "code",
   "execution_count": 16,
   "id": "2d26c703-cef2-4df9-98e2-5c5945df7cdf",
   "metadata": {},
   "outputs": [
    {
     "data": {
      "text/plain": [
       "Name       0.0\n",
       "Age       40.0\n",
       "Salary    40.0\n",
       "dtype: float64"
      ]
     },
     "execution_count": 16,
     "metadata": {},
     "output_type": "execute_result"
    }
   ],
   "source": [
    "# How would you create a summary report showing the percentage of missing values for each column in a DataFrame?\n",
    "import pandas as pd \n",
    "import numpy as np \n",
    "data = {\n",
    "    'Name': ['Alice', 'Bob', 'Charlie', 'David', 'Eve'],\n",
    "    'Age': [25, np.nan, 30, np.nan, 22],\n",
    "    'Salary': [50000, 55000, np.nan, 60000, np.nan]\n",
    "} \n",
    "\n",
    "df = pd.DataFrame(data) \n",
    "percentage =  (df.isnull().sum().sum() / len(df)) * 100 \n",
    "percentage =  (df.isnull().sum() / len(df)) * 100 \n",
    "\n",
    "# df.isnull().sum().sum()\n",
    "percentage\n"
   ]
  },
  {
   "cell_type": "code",
   "execution_count": null,
   "id": "da02b14e-e420-4ce2-bb2e-dc7a79761884",
   "metadata": {},
   "outputs": [],
   "source": []
  }
 ],
 "metadata": {
  "kernelspec": {
   "display_name": "Python 3 (ipykernel)",
   "language": "python",
   "name": "python3"
  },
  "language_info": {
   "codemirror_mode": {
    "name": "ipython",
    "version": 3
   },
   "file_extension": ".py",
   "mimetype": "text/x-python",
   "name": "python",
   "nbconvert_exporter": "python",
   "pygments_lexer": "ipython3",
   "version": "3.12.3"
  }
 },
 "nbformat": 4,
 "nbformat_minor": 5
}
