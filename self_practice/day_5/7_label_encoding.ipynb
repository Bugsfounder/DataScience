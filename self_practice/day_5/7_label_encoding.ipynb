{
 "cells": [
  {
   "cell_type": "code",
   "execution_count": null,
   "id": "ad13bd54-7fa9-4bde-9fc8-3e4358e64551",
   "metadata": {},
   "outputs": [],
   "source": [
    "# !pip install scikit-learn\n",
    "from sklearn.preprocessing import LabelEncoder\n",
    "import pandas as  pd \n",
    "data = {\n",
    "    \"Department\": ['HR', 'IT', 'Finance']\n",
    "}\n",
    "df = pd.DataFrame(data)\n",
    "le = LabelEncoder() \n",
    "df[\"department_encoded\"] = le.fit_transform(data['Department'])\n",
    "\n",
    "le.fit_transform(data['Department'])\n",
    "df\n",
    "\n",
    "data = pd.read_csv('../../datasets/customers-100.csv') \n",
    "\n",
    "df = pd.DataFrame(data) \n",
    "\n",
    "le = LabelEncoder()\n",
    "\n",
    "print(df.columns)\n",
    "\n",
    "# encode Cutomer ID \n",
    "df['Customer Id'], df['Country'], df['First Name'] = le.fit_transform(df['Customer Id']), le.fit_transform(df['Country']), le.fit_transform(df['First Name'])\n",
    "df['Last Name'] = le.fit_transform(df['Last Name'])\n",
    "df['City'] = le.fit_transform(df['City'])\n",
    "df['Website'] = le.fit_transform(df['Website'])\n",
    "df['Company'] = le.fit_transform(df['Company']) \n",
    "df[\"Phone 1\"], df[\"Phone 2\"] = le.fit_transform(df[\"Phone 1\"]), le.fit_transform(df[\"Phone 2\"])\n",
    "df[\"Email\"] = le.fit_transform(df[\"Email\"]) \n",
    "df[\"Subscription Date\"] = le.fit_transform(df[\"Subscription Date\"]) \n"
   ]
  },
  {
   "cell_type": "code",
   "execution_count": null,
   "id": "98c2098a-e40a-4a3f-907e-867983c9adbc",
   "metadata": {},
   "outputs": [],
   "source": []
  }
 ],
 "metadata": {
  "kernelspec": {
   "display_name": "Python 3 (ipykernel)",
   "language": "python",
   "name": "python3"
  },
  "language_info": {
   "codemirror_mode": {
    "name": "ipython",
    "version": 3
   },
   "file_extension": ".py",
   "mimetype": "text/x-python",
   "name": "python",
   "nbconvert_exporter": "python",
   "pygments_lexer": "ipython3",
   "version": "3.12.3"
  }
 },
 "nbformat": 4,
 "nbformat_minor": 5
}
