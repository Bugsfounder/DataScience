{
 "cells": [
  {
   "cell_type": "code",
   "execution_count": 6,
   "id": "c9e2de2d-8d19-41c7-9f93-7c5387e86f71",
   "metadata": {},
   "outputs": [
    {
     "data": {
      "text/plain": [
       "Name      1\n",
       "Age       2\n",
       "Salary    1\n",
       "dtype: int64"
      ]
     },
     "execution_count": 6,
     "metadata": {},
     "output_type": "execute_result"
    }
   ],
   "source": [
    "# Given the same DataFrame, how would you count the number of missing values in each column?\n",
    "import pandas as pd \n",
    "import numpy as np \n",
    "df = pd.DataFrame({ 'Name': ['Alice', 'Bob', None, 'David', 'Eve'], 'Age': [25, None, 35, 40, None], 'Salary': [50000, 60000, None, 70000, 55000] }) \n",
    "\n",
    "\n",
    "df.isnull().any(axis=0)\n",
    "df.isnull().sum()\n",
    "# df"
   ]
  }
 ],
 "metadata": {
  "kernelspec": {
   "display_name": "Python 3 (ipykernel)",
   "language": "python",
   "name": "python3"
  },
  "language_info": {
   "codemirror_mode": {
    "name": "ipython",
    "version": 3
   },
   "file_extension": ".py",
   "mimetype": "text/x-python",
   "name": "python",
   "nbconvert_exporter": "python",
   "pygments_lexer": "ipython3",
   "version": "3.12.3"
  }
 },
 "nbformat": 4,
 "nbformat_minor": 5
}
