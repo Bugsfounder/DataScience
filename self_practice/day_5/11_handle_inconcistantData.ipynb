{
 "cells": [
  {
   "cell_type": "code",
   "execution_count": 30,
   "id": "a4476e69-267d-46b1-bfc5-fe47495f54d8",
   "metadata": {},
   "outputs": [
    {
     "data": {
      "text/plain": [
       "0    25\n",
       "1    30\n",
       "2    22\n",
       "4    27\n",
       "Name: age, dtype: object"
      ]
     },
     "execution_count": 30,
     "metadata": {},
     "output_type": "execute_result"
    }
   ],
   "source": [
    "# You have a column with mixed data types (strings and numbers). How would you identify and handle these inconsistencies?\n",
    "\n",
    "data = {\n",
    "    'id': [1, 2, 3, 4, 5],\n",
    "    'age': [25, '30', 22, 'twenty-eight', 27]\n",
    "}\n",
    "\n",
    "import pandas as pd \n",
    "df = pd.DataFrame(data)\n",
    "\n",
    "\n",
    "# finding str \n",
    "df['age'].apply(lambda x: isinstance(x, str))\n",
    "\n",
    "# convert string data to numeric \n",
    "pd.to_numeric(df['age'], errors='coerce') # --> coerce = threatening \n",
    " \n",
    "df['age'].dropna(inplace=True)\n",
    "\n",
    "df['age'].drop(3)"
   ]
  },
  {
   "cell_type": "code",
   "execution_count": null,
   "id": "28588842-5045-45c2-8f53-ce0b5fb39f56",
   "metadata": {},
   "outputs": [],
   "source": []
  }
 ],
 "metadata": {
  "kernelspec": {
   "display_name": "Python 3 (ipykernel)",
   "language": "python",
   "name": "python3"
  },
  "language_info": {
   "codemirror_mode": {
    "name": "ipython",
    "version": 3
   },
   "file_extension": ".py",
   "mimetype": "text/x-python",
   "name": "python",
   "nbconvert_exporter": "python",
   "pygments_lexer": "ipython3",
   "version": "3.12.3"
  }
 },
 "nbformat": 4,
 "nbformat_minor": 5
}
