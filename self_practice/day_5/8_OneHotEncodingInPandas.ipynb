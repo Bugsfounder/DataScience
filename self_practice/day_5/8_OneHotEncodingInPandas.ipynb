{
 "cells": [
  {
   "cell_type": "code",
   "execution_count": 29,
   "id": "5f2277ee-4d21-4f79-a93c-26a6b4207f74",
   "metadata": {},
   "outputs": [
    {
     "data": {
      "text/plain": [
       "array([[0., 0., 0., ..., 0., 0., 0.],\n",
       "       [0., 0., 0., ..., 0., 0., 0.],\n",
       "       [0., 0., 0., ..., 0., 0., 0.],\n",
       "       ...,\n",
       "       [0., 0., 0., ..., 0., 0., 0.],\n",
       "       [0., 0., 0., ..., 0., 0., 0.],\n",
       "       [0., 0., 0., ..., 0., 0., 0.]], shape=(100, 100))"
      ]
     },
     "execution_count": 29,
     "metadata": {},
     "output_type": "execute_result"
    }
   ],
   "source": [
    "import pandas as pd \n",
    "from sklearn.preprocessing import OneHotEncoder\n",
    "\n",
    "data = pd.read_csv('../../datasets/customers-100.csv') \n",
    "data = pd.DataFrame(data)\n",
    "oneHotEncoder = OneHotEncoder() \n",
    "# data['Customer Id'] = oneHotEncoder.fit_transform(pd.DataFrame(data['Customer Id'])).toarray() \n",
    "\n",
    "d = oneHotEncoder.fit_transform(pd.DataFrame(data['Customer Id'])).toarray() \n",
    "\n",
    "oneHotEncoder = OneHotEncoder() \n",
    "# data['First Name'] = oneHotEncoder.fit_transform(pd.DataFrame(data['First Name'])).toarray()\n",
    "\n",
    "data \n",
    "d"
   ]
  },
  {
   "cell_type": "code",
   "execution_count": 30,
   "id": "bc65b197-4023-4912-a3ad-f4b83306e0a4",
   "metadata": {},
   "outputs": [
    {
     "name": "stdout",
     "output_type": "stream",
     "text": [
      "[[1. 0. 0. 0.]\n",
      " [0. 0. 1. 0.]\n",
      " [0. 1. 0. 0.]\n",
      " [0. 0. 0. 1.]]\n"
     ]
    },
    {
     "data": {
      "text/html": [
       "<div>\n",
       "<style scoped>\n",
       "    .dataframe tbody tr th:only-of-type {\n",
       "        vertical-align: middle;\n",
       "    }\n",
       "\n",
       "    .dataframe tbody tr th {\n",
       "        vertical-align: top;\n",
       "    }\n",
       "\n",
       "    .dataframe thead th {\n",
       "        text-align: right;\n",
       "    }\n",
       "</style>\n",
       "<table border=\"1\" class=\"dataframe\">\n",
       "  <thead>\n",
       "    <tr style=\"text-align: right;\">\n",
       "      <th></th>\n",
       "      <th>Name</th>\n",
       "      <th>age</th>\n",
       "      <th>city</th>\n",
       "      <th>salary</th>\n",
       "    </tr>\n",
       "  </thead>\n",
       "  <tbody>\n",
       "    <tr>\n",
       "      <th>0</th>\n",
       "      <td>1.0</td>\n",
       "      <td>25</td>\n",
       "      <td>NYC</td>\n",
       "      <td>50000</td>\n",
       "    </tr>\n",
       "    <tr>\n",
       "      <th>1</th>\n",
       "      <td>0.0</td>\n",
       "      <td>30</td>\n",
       "      <td>UA</td>\n",
       "      <td>60000</td>\n",
       "    </tr>\n",
       "    <tr>\n",
       "      <th>2</th>\n",
       "      <td>0.0</td>\n",
       "      <td>35</td>\n",
       "      <td>Chicago</td>\n",
       "      <td>70000</td>\n",
       "    </tr>\n",
       "    <tr>\n",
       "      <th>3</th>\n",
       "      <td>0.0</td>\n",
       "      <td>28</td>\n",
       "      <td>India</td>\n",
       "      <td>80000</td>\n",
       "    </tr>\n",
       "  </tbody>\n",
       "</table>\n",
       "</div>"
      ],
      "text/plain": [
       "   Name  age     city  salary\n",
       "0   1.0   25      NYC   50000\n",
       "1   0.0   30       UA   60000\n",
       "2   0.0   35  Chicago   70000\n",
       "3   0.0   28    India   80000"
      ]
     },
     "execution_count": 30,
     "metadata": {},
     "output_type": "execute_result"
    }
   ],
   "source": [
    "data = {\n",
    "    \"Name\": [\"Alice\", \"bob\", \"Charlie\", \"diana\"],\n",
    "    \"age\": [25, 30, 35, 28],\n",
    "    \"city\": [\"NYC\", \"UA\", \"Chicago\", \"India\"],\n",
    "    \"salary\": [50000, 60000, 70000, 80000],\n",
    "}\n",
    "\n",
    "\n",
    "df = pd.DataFrame(data)\n",
    "\n",
    "\n",
    "\n",
    "# oh_encoder = OneHotEncoder().fit_transform(df[\"Name\"]).toarray() # error\n",
    "oh_encoder = OneHotEncoder().fit_transform(pd.DataFrame(df[\"Name\"])).toarray()\n",
    "print(oh_encoder)\n",
    "\n",
    "\n",
    "df[\"Name\"] = oh_encoder\n",
    "\n",
    "df "
   ]
  },
  {
   "cell_type": "code",
   "execution_count": 32,
   "id": "a1c596aa-9978-4398-8e39-7328a15c1346",
   "metadata": {},
   "outputs": [
    {
     "data": {
      "text/plain": [
       "array([[0., 1., 0.],\n",
       "       [1., 0., 0.],\n",
       "       [0., 0., 1.]])"
      ]
     },
     "execution_count": 32,
     "metadata": {},
     "output_type": "execute_result"
    }
   ],
   "source": [
    "df = pd.DataFrame([\"red\", \"pink\", \"yellow\"]) \n",
    "oh = OneHotEncoder().fit_transform(df).toarray() \n",
    "oh "
   ]
  },
  {
   "cell_type": "code",
   "execution_count": null,
   "id": "74855f99-6b52-4089-a719-de4f258e50a6",
   "metadata": {},
   "outputs": [],
   "source": []
  }
 ],
 "metadata": {
  "kernelspec": {
   "display_name": "Python 3 (ipykernel)",
   "language": "python",
   "name": "python3"
  },
  "language_info": {
   "codemirror_mode": {
    "name": "ipython",
    "version": 3
   },
   "file_extension": ".py",
   "mimetype": "text/x-python",
   "name": "python",
   "nbconvert_exporter": "python",
   "pygments_lexer": "ipython3",
   "version": "3.12.3"
  }
 },
 "nbformat": 4,
 "nbformat_minor": 5
}
