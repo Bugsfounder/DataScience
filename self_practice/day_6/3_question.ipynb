{
 "cells": [
  {
   "cell_type": "code",
   "execution_count": 5,
   "id": "d5835cf2-f863-4fef-8095-672bc9f04e1e",
   "metadata": {},
   "outputs": [
    {
     "data": {
      "text/plain": [
       "Product\n",
       "A    480\n",
       "B    430\n",
       "Name: Sales, dtype: int64"
      ]
     },
     "execution_count": 5,
     "metadata": {},
     "output_type": "execute_result"
    }
   ],
   "source": [
    "import pandas as pd\n",
    "sales = pd.DataFrame({ 'Product': ['A', 'B', 'A', 'B', 'A', 'B'], \n",
    "                       'Region': ['North', 'North', 'South', 'South', 'East', 'East'], \n",
    "                       'Sales': [100, 150, 200, 120, 180, 160] })\n",
    "\n",
    "# How would you calculate the total sales for each product using groupby?\n",
    "\n",
    "df = pd.DataFrame(sales)\n",
    "df.groupby('Product')['Sales'].sum()"
   ]
  },
  {
   "cell_type": "code",
   "execution_count": null,
   "id": "49f64cc6-3e23-488a-8a3a-c1c93c6f3846",
   "metadata": {},
   "outputs": [],
   "source": []
  }
 ],
 "metadata": {
  "kernelspec": {
   "display_name": "Python 3 (ipykernel)",
   "language": "python",
   "name": "python3"
  },
  "language_info": {
   "codemirror_mode": {
    "name": "ipython",
    "version": 3
   },
   "file_extension": ".py",
   "mimetype": "text/x-python",
   "name": "python",
   "nbconvert_exporter": "python",
   "pygments_lexer": "ipython3",
   "version": "3.12.3"
  }
 },
 "nbformat": 4,
 "nbformat_minor": 5
}
