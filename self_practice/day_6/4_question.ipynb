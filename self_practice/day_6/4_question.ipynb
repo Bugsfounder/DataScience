{
 "cells": [
  {
   "cell_type": "code",
   "execution_count": 2,
   "id": "72cad949-f4ae-4f65-9a68-b9b0c79f22c3",
   "metadata": {},
   "outputs": [],
   "source": [
    "# Using the same sales DataFrame, how would you find the average sales for each region?\n",
    "import pandas as pd\n",
    "sales = pd.DataFrame({ 'Product': ['A', 'B', 'A', 'B', 'A', 'B'], \n",
    "                       'Region': ['North', 'North', 'South', 'South', 'East', 'East'], \n",
    "                       'Sales': [100, 150, 200, 120, 180, 160] })\n",
    "\n",
    "df = pd.DataFrame(sales)"
   ]
  },
  {
   "cell_type": "code",
   "execution_count": 3,
   "id": "3b7a067e-c454-4ced-bfc8-766643654b8e",
   "metadata": {},
   "outputs": [
    {
     "data": {
      "text/plain": [
       "Region\n",
       "East     170.0\n",
       "North    125.0\n",
       "South    160.0\n",
       "Name: Sales, dtype: float64"
      ]
     },
     "execution_count": 3,
     "metadata": {},
     "output_type": "execute_result"
    }
   ],
   "source": [
    "df.groupby('Region')['Sales'].mean()"
   ]
  },
  {
   "cell_type": "code",
   "execution_count": null,
   "id": "e3bf79c0-e863-4db9-8d9f-8d1d4865569f",
   "metadata": {},
   "outputs": [],
   "source": []
  }
 ],
 "metadata": {
  "kernelspec": {
   "display_name": "Python 3 (ipykernel)",
   "language": "python",
   "name": "python3"
  },
  "language_info": {
   "codemirror_mode": {
    "name": "ipython",
    "version": 3
   },
   "file_extension": ".py",
   "mimetype": "text/x-python",
   "name": "python",
   "nbconvert_exporter": "python",
   "pygments_lexer": "ipython3",
   "version": "3.12.3"
  }
 },
 "nbformat": 4,
 "nbformat_minor": 5
}
