{
 "cells": [
  {
   "cell_type": "code",
   "execution_count": 20,
   "id": "4a8deccb-5fa0-4a35-9794-8084dca47e11",
   "metadata": {},
   "outputs": [
    {
     "data": {
      "text/plain": [
       "2    Chicago\n",
       "3    Houston\n",
       "Name: City, dtype: object"
      ]
     },
     "execution_count": 20,
     "metadata": {},
     "output_type": "execute_result"
    }
   ],
   "source": [
    "import pandas as pd \n",
    "\n",
    "df = pd.DataFrame({ 'Name': ['Alice', 'Bob', 'Charlie', 'David'], \n",
    "                    'Age': [25, 30, 35, 40], \n",
    "                    'City': ['NY', 'LA', 'Chicago', 'Houston'] }) \n",
    "\n",
    "# How would you select rows where Age is greater than 30 using both loc and iloc?\n",
    "df.loc[2,'Age'] \n",
    "# agesIndex = [ i for i in range(len(df['Age'])) if df['Age'][i] > 30] \n",
    "agesIndex = df[df['Age'] > 30].index\n",
    "\n",
    "df.loc[agesIndex, 'Age']\n",
    "df.iloc[agesIndex, 2]"
   ]
  },
  {
   "cell_type": "code",
   "execution_count": 24,
   "id": "6b402fe1-2c4f-46df-bd46-6ffdfd01926f",
   "metadata": {},
   "outputs": [
    {
     "data": {
      "text/html": [
       "<div>\n",
       "<style scoped>\n",
       "    .dataframe tbody tr th:only-of-type {\n",
       "        vertical-align: middle;\n",
       "    }\n",
       "\n",
       "    .dataframe tbody tr th {\n",
       "        vertical-align: top;\n",
       "    }\n",
       "\n",
       "    .dataframe thead th {\n",
       "        text-align: right;\n",
       "    }\n",
       "</style>\n",
       "<table border=\"1\" class=\"dataframe\">\n",
       "  <thead>\n",
       "    <tr style=\"text-align: right;\">\n",
       "      <th></th>\n",
       "      <th>Name</th>\n",
       "      <th>Age</th>\n",
       "      <th>City</th>\n",
       "    </tr>\n",
       "  </thead>\n",
       "  <tbody>\n",
       "    <tr>\n",
       "      <th>2</th>\n",
       "      <td>Charlie</td>\n",
       "      <td>35</td>\n",
       "      <td>Chicago</td>\n",
       "    </tr>\n",
       "    <tr>\n",
       "      <th>3</th>\n",
       "      <td>David</td>\n",
       "      <td>40</td>\n",
       "      <td>Houston</td>\n",
       "    </tr>\n",
       "  </tbody>\n",
       "</table>\n",
       "</div>"
      ],
      "text/plain": [
       "      Name  Age     City\n",
       "2  Charlie   35  Chicago\n",
       "3    David   40  Houston"
      ]
     },
     "execution_count": 24,
     "metadata": {},
     "output_type": "execute_result"
    }
   ],
   "source": [
    "df[df['Age']>32]\n",
    "df['Age']>32"
   ]
  },
  {
   "cell_type": "code",
   "execution_count": null,
   "id": "c166c39e-02e4-4a98-8e6c-2e46d700a916",
   "metadata": {},
   "outputs": [],
   "source": []
  }
 ],
 "metadata": {
  "kernelspec": {
   "display_name": "Python 3 (ipykernel)",
   "language": "python",
   "name": "python3"
  },
  "language_info": {
   "codemirror_mode": {
    "name": "ipython",
    "version": 3
   },
   "file_extension": ".py",
   "mimetype": "text/x-python",
   "name": "python",
   "nbconvert_exporter": "python",
   "pygments_lexer": "ipython3",
   "version": "3.12.3"
  }
 },
 "nbformat": 4,
 "nbformat_minor": 5
}
