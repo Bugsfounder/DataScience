{
 "cells": [
  {
   "cell_type": "code",
   "execution_count": 1,
   "id": "a258c49d-2b4f-41ca-bc47-1735db259433",
   "metadata": {},
   "outputs": [
    {
     "name": "stdout",
     "output_type": "stream",
     "text": [
      "10 20.4 Manisha [1, 2, 3, 4, 5, True] (1, 2, 3, 4, 5, 'Manisha') {'name': 'Manisha', 'class': 'MCA'} {1, 2, 3}\n"
     ]
    }
   ],
   "source": [
    "# name = input(\"Enter Your name:\")\n",
    "\n",
    "# print(name)\n",
    "\n",
    "a = 10 # int\n",
    "b = 20.4 # float\n",
    "c = \"Manisha\" #String\n",
    "d = [1,2,3,4,5, True] # list --> mutable\n",
    "e = (1,2,3,4,5, \"Manisha\") # tuple --> imutable\n",
    "\n",
    "# dict --> key value pairs\n",
    "dic = { \"name\": \"Manisha\",\n",
    "        \"class\":\"MCA\"\n",
    "      }\n",
    "\n",
    "# set --> collection of unique values\n",
    "s = {1,2,3, 1,2,3}\n",
    "\n",
    "print(a,b,c,d,e,dic,s)\n",
    "\n",
    "\n"
   ]
  },
  {
   "cell_type": "code",
   "execution_count": 2,
   "id": "6387592c-2fd8-49a6-af67-5a6de6514f49",
   "metadata": {},
   "outputs": [],
   "source": [
    "friendBook = {\n",
    "    \"name\":\"Manisha\",\n",
    "    \"class\":\"mca\",\n",
    "    \"hobby\":\"coding\",\n",
    "    \"height\":5.1,\n",
    "    \"dob\": \"15-08-2003\"}\n",
    "    "
   ]
  },
  {
   "cell_type": "code",
   "execution_count": 5,
   "id": "90357967-8fcb-43f8-92c7-ae3d94c2d0f0",
   "metadata": {},
   "outputs": [
    {
     "name": "stdin",
     "output_type": "stream",
     "text": [
      "Enter Your name:  \n",
      "Enter Your class:  \n",
      "Enter Your hobby:  \n",
      "Enter Your height:  \n",
      "Enter Your dob:  \n"
     ]
    },
    {
     "name": "stdout",
     "output_type": "stream",
     "text": [
      "  name class hobby height dob\n",
      "0                            \n",
      "\n",
      "friend name:   \n",
      "class:   \n",
      "hobby:   \n",
      "height:   \n",
      "dob:  \n",
      "\n",
      "{'name': [''], 'class': [''], 'hobby': [''], 'height': [''], 'dob': ['']}\n"
     ]
    }
   ],
   "source": [
    "import pandas as pd \n",
    "\n",
    "friendBook ={}\n",
    "\n",
    "name = input(\"Enter Your name: \")\n",
    "classFriend =  input(\"Enter Your class: \")\n",
    "hobby = input(\"Enter Your hobby: \")\n",
    "height = input(\"Enter Your height: \")\n",
    "dob =input(\"Enter Your dob: \")\n",
    "\n",
    "friendBook = {\n",
    "    \"name\": [name],\n",
    "    \"class\": [classFriend],\n",
    "    \"hobby\": [hobby],\n",
    "    \"height\": [height],\n",
    "    \"dob\": [dob]\n",
    "}\n",
    "\n",
    "\n",
    "df = pd.DataFrame(friendBook, )\n",
    "print(df)\n",
    "print()\n",
    "print(\"friend name: \", name ,\"\\nclass: \", classFriend, \"\\nhobby: \", hobby,\"\\nheight: \", height, \"\\ndob: \", dob)\n",
    "print()\n",
    "print(friendBook)"
   ]
  },
  {
   "cell_type": "code",
   "execution_count": 4,
   "id": "5a935ea1-e9cd-413d-9b82-3119983f02d4",
   "metadata": {},
   "outputs": [],
   "source": [
    "# !pip install pandas"
   ]
  },
  {
   "cell_type": "code",
   "execution_count": 11,
   "id": "5dd730ad-a0bc-4dd6-96f1-6d81423bc33e",
   "metadata": {},
   "outputs": [
    {
     "data": {
      "text/plain": [
       "300"
      ]
     },
     "execution_count": 11,
     "metadata": {},
     "output_type": "execute_result"
    }
   ],
   "source": [
    "# TODO: Edit the function to return the correct bill for different\n",
    "# values of GB\n",
    "def get_phone_bill(gb):\n",
    "    bill = 100\n",
    "    if gb <= 15:\n",
    "        bill = 100\n",
    "    elif gb > float(15):\n",
    "        fl = gb - int(gb)\n",
    "        bill += 100 + (gb - 15) * 100\n",
    "    \n",
    "    return bill\n",
    "\n",
    "# Check your answer\n",
    "get_phone_bill(16)"
   ]
  },
  {
   "cell_type": "code",
   "execution_count": 29,
   "id": "060e9e4b-fd81-470a-9ecf-9d6c59b5dcb2",
   "metadata": {},
   "outputs": [
    {
     "data": {
      "text/plain": [
       "[149, 164, 163, 143, 143, 166, 171]"
      ]
     },
     "execution_count": 29,
     "metadata": {},
     "output_type": "execute_result"
    }
   ],
   "source": [
    "num_customers = [137, 147, 135, 128, 170, 174, 165, 146, 126, 159,\n",
    "                 141, 148, 132, 147, 168, 153, 170, 161, 148, 152,\n",
    "                 141, 151, 131, 149, 164, 163, 143, 143, 166, 171]\n",
    "num_customers[-7:]"
   ]
  },
  {
   "cell_type": "code",
   "execution_count": null,
   "id": "877185bb-d048-4944-9e97-a4c43d977120",
   "metadata": {},
   "outputs": [],
   "source": []
  }
 ],
 "metadata": {
  "kernelspec": {
   "display_name": "Python 3 (ipykernel)",
   "language": "python",
   "name": "python3"
  },
  "language_info": {
   "codemirror_mode": {
    "name": "ipython",
    "version": 3
   },
   "file_extension": ".py",
   "mimetype": "text/x-python",
   "name": "python",
   "nbconvert_exporter": "python",
   "pygments_lexer": "ipython3",
   "version": "3.12.3"
  }
 },
 "nbformat": 4,
 "nbformat_minor": 5
}
