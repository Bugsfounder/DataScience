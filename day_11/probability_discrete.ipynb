{
 "cells": [
  {
   "cell_type": "code",
   "execution_count": 1,
   "id": "50875385-76f2-48d7-8606-b6fbe7e54159",
   "metadata": {},
   "outputs": [],
   "source": [
    "# - A dice is rolled twice. Let (X) be the sum of the numbers obtained. Find the probability distribution of (X) and determine its expectation.\n",
    "# - A factory produces widgets, and the number of defective widgets per batch follows a Poisson distribution with a mean of 3. \n",
    "#     Calculate the probability that a batch contains exactly 5 defective widgets."
   ]
  },
  {
   "cell_type": "code",
   "execution_count": 15,
   "id": "da32da35-e697-40b7-9847-43baf879471f",
   "metadata": {},
   "outputs": [
    {
     "data": {
      "text/plain": [
       "7.0"
      ]
     },
     "execution_count": 15,
     "metadata": {},
     "output_type": "execute_result"
    }
   ],
   "source": [
    "e = (2*1 + 3*2 + 4*3 + 5*4 + 6*5 + 7*6 + 8*5 + 9*4 + 10*3 + 11*2 + 12*1) / 36\n",
    "  # = 252 / 36 = 7\n",
    "\n",
    "e"
   ]
  },
  {
   "cell_type": "code",
   "execution_count": 11,
   "id": "0dd5d2d3-3e1c-4afd-abaa-2211bafc6f8c",
   "metadata": {},
   "outputs": [
    {
     "data": {
      "text/plain": [
       "10.08"
      ]
     },
     "execution_count": 11,
     "metadata": {},
     "output_type": "execute_result"
    }
   ],
   "source": [
    "import math\n",
    "l = 3\n",
    "k = 5\n",
    "p = (math.exp(-l) * l**k) /math.factorial(k)\n",
    "round(p, 4)# ≈ 0.1008\n",
    "round(p,4)*100\n",
    "# math.factorial(5)"
   ]
  },
  {
   "cell_type": "code",
   "execution_count": null,
   "id": "54dfe396-4f5c-4dd6-bb08-4a19c5feb8b4",
   "metadata": {},
   "outputs": [],
   "source": []
  }
 ],
 "metadata": {
  "kernelspec": {
   "display_name": "Python 3 (ipykernel)",
   "language": "python",
   "name": "python3"
  },
  "language_info": {
   "codemirror_mode": {
    "name": "ipython",
    "version": 3
   },
   "file_extension": ".py",
   "mimetype": "text/x-python",
   "name": "python",
   "nbconvert_exporter": "python",
   "pygments_lexer": "ipython3",
   "version": "3.12.3"
  }
 },
 "nbformat": 4,
 "nbformat_minor": 5
}
